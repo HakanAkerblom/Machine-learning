{
 "cells": [
  {
   "cell_type": "code",
   "execution_count": 119,
   "metadata": {},
   "outputs": [
    {
     "data": {
      "text/html": [
       "<div>\n",
       "<style scoped>\n",
       "    .dataframe tbody tr th:only-of-type {\n",
       "        vertical-align: middle;\n",
       "    }\n",
       "\n",
       "    .dataframe tbody tr th {\n",
       "        vertical-align: top;\n",
       "    }\n",
       "\n",
       "    .dataframe thead th {\n",
       "        text-align: right;\n",
       "    }\n",
       "</style>\n",
       "<table border=\"1\" class=\"dataframe\">\n",
       "  <thead>\n",
       "    <tr style=\"text-align: right;\">\n",
       "      <th></th>\n",
       "      <th>mpg</th>\n",
       "      <th>cylinders</th>\n",
       "      <th>displacement</th>\n",
       "      <th>horsepower</th>\n",
       "      <th>weight</th>\n",
       "      <th>acceleration</th>\n",
       "      <th>model_year</th>\n",
       "      <th>origin</th>\n",
       "      <th>name</th>\n",
       "    </tr>\n",
       "  </thead>\n",
       "  <tbody>\n",
       "    <tr>\n",
       "      <th>0</th>\n",
       "      <td>18.0</td>\n",
       "      <td>8</td>\n",
       "      <td>307.0</td>\n",
       "      <td>130.0</td>\n",
       "      <td>3504</td>\n",
       "      <td>12.0</td>\n",
       "      <td>70</td>\n",
       "      <td>usa</td>\n",
       "      <td>chevrolet chevelle malibu</td>\n",
       "    </tr>\n",
       "    <tr>\n",
       "      <th>1</th>\n",
       "      <td>15.0</td>\n",
       "      <td>8</td>\n",
       "      <td>350.0</td>\n",
       "      <td>165.0</td>\n",
       "      <td>3693</td>\n",
       "      <td>11.5</td>\n",
       "      <td>70</td>\n",
       "      <td>usa</td>\n",
       "      <td>buick skylark 320</td>\n",
       "    </tr>\n",
       "    <tr>\n",
       "      <th>2</th>\n",
       "      <td>18.0</td>\n",
       "      <td>8</td>\n",
       "      <td>318.0</td>\n",
       "      <td>150.0</td>\n",
       "      <td>3436</td>\n",
       "      <td>11.0</td>\n",
       "      <td>70</td>\n",
       "      <td>usa</td>\n",
       "      <td>plymouth satellite</td>\n",
       "    </tr>\n",
       "    <tr>\n",
       "      <th>3</th>\n",
       "      <td>16.0</td>\n",
       "      <td>8</td>\n",
       "      <td>304.0</td>\n",
       "      <td>150.0</td>\n",
       "      <td>3433</td>\n",
       "      <td>12.0</td>\n",
       "      <td>70</td>\n",
       "      <td>usa</td>\n",
       "      <td>amc rebel sst</td>\n",
       "    </tr>\n",
       "    <tr>\n",
       "      <th>4</th>\n",
       "      <td>17.0</td>\n",
       "      <td>8</td>\n",
       "      <td>302.0</td>\n",
       "      <td>140.0</td>\n",
       "      <td>3449</td>\n",
       "      <td>10.5</td>\n",
       "      <td>70</td>\n",
       "      <td>usa</td>\n",
       "      <td>ford torino</td>\n",
       "    </tr>\n",
       "  </tbody>\n",
       "</table>\n",
       "</div>"
      ],
      "text/plain": [
       "    mpg  cylinders  displacement  horsepower  weight  acceleration  \\\n",
       "0  18.0          8         307.0       130.0    3504          12.0   \n",
       "1  15.0          8         350.0       165.0    3693          11.5   \n",
       "2  18.0          8         318.0       150.0    3436          11.0   \n",
       "3  16.0          8         304.0       150.0    3433          12.0   \n",
       "4  17.0          8         302.0       140.0    3449          10.5   \n",
       "\n",
       "   model_year origin                       name  \n",
       "0          70    usa  chevrolet chevelle malibu  \n",
       "1          70    usa          buick skylark 320  \n",
       "2          70    usa         plymouth satellite  \n",
       "3          70    usa              amc rebel sst  \n",
       "4          70    usa                ford torino  "
      ]
     },
     "execution_count": 119,
     "metadata": {},
     "output_type": "execute_result"
    }
   ],
   "source": [
    "import seaborn as sns\n",
    "\n",
    "\n",
    "mpg = sns.load_dataset(\"mpg\")\n",
    "mpg.head()"
   ]
  },
  {
   "cell_type": "code",
   "execution_count": 120,
   "metadata": {},
   "outputs": [],
   "source": [
    "mpg = mpg.dropna()\n",
    "mpg = mpg.drop([\"origin\", \"name\"], axis=1)"
   ]
  },
  {
   "cell_type": "code",
   "execution_count": 121,
   "metadata": {},
   "outputs": [],
   "source": [
    "from sklearn.model_selection import train_test_split\n",
    "y = mpg[\"mpg\"]\n",
    "X = mpg.drop([\"mpg\"], axis=1)\n",
    "\n",
    "X_train, X_test, y_train, y_test = train_test_split(X, y, test_size=0.2, random_state=42)\n"
   ]
  },
  {
   "cell_type": "code",
   "execution_count": 122,
   "metadata": {},
   "outputs": [
    {
     "name": "stdout",
     "output_type": "stream",
     "text": [
      "Index(['cylinders', 'displacement', 'horsepower', 'weight', 'acceleration',\n",
      "       'model_year'],\n",
      "      dtype='object')\n",
      "Parameters [-0.116173    0.00101347 -0.00227634 -0.00656101  0.06173551  0.76063644]\n",
      "Intercept -15.057758585282404\n"
     ]
    }
   ],
   "source": [
    "from sklearn.linear_model import LinearRegression\n",
    "\n",
    "model_OLS = LinearRegression()\n",
    "model_OLS.fit(X_train, y_train)\n",
    "print(X.columns)\n",
    "print(f\"Parameters {model_OLS.coef_}\")\n",
    "print(f\"Intercept {model_OLS.intercept_}\")"
   ]
  },
  {
   "cell_type": "code",
   "execution_count": 123,
   "metadata": {},
   "outputs": [
    {
     "name": "stdout",
     "output_type": "stream",
     "text": [
      "mae  = 2.503860089776125 \n",
      "mse  = 10.502370329417303 \n",
      "rmse = 3.2407360783342574\n"
     ]
    }
   ],
   "source": [
    "from sklearn.metrics import mean_absolute_error, mean_squared_error\n",
    "import numpy as np\n",
    "\n",
    "\n",
    "def test_metrics(y_test, y_pred):\n",
    "    mae = mean_absolute_error(y_test, y_pred)\n",
    "    mse = mean_squared_error(y_test, y_pred)\n",
    "    rmse = np.sqrt(mse)\n",
    "\n",
    "    print(f\"{mae  = } \\n{mse  = } \\n{rmse = }\")\n",
    "    return mae, mse, rmse\n",
    "\n",
    "y_pred_OLS = model_OLS.predict(X_test)\n",
    "metrics_OLS = test_metrics(y_test, y_pred_OLS)\n",
    "\n"
   ]
  },
  {
   "cell_type": "code",
   "execution_count": 130,
   "metadata": {},
   "outputs": [
    {
     "name": "stdout",
     "output_type": "stream",
     "text": [
      "Parameters [-0.19723011  0.10499657 -0.08700746 -5.5098621   0.17368415  2.75679957]\n",
      "Intercept 23.599361022364224\n",
      "mae  = 2.5038600897761234 \n",
      "mse  = 10.502370329417294 \n",
      "rmse = 3.240736078334256\n"
     ]
    }
   ],
   "source": [
    "from sklearn.preprocessing import MinMaxScaler, StandardScaler\n",
    "\n",
    "scaler = StandardScaler()\n",
    "scaler.fit(X_train)\n",
    "\n",
    "scaled_X_train = scaler.transform(X_train)\n",
    "scaled_X_test = scaler.transform(X_test)\n",
    "\n",
    "model_OLS = LinearRegression()\n",
    "model_OLS.fit(scaled_X_train, y_train)\n",
    "\n",
    "print(f\"Parameters {model_OLS.coef_}\")\n",
    "print(f\"Intercept {model_OLS.intercept_}\")\n",
    "\n",
    "y_pred_OLS_scaled = model_OLS.predict(scaled_X_test)\n",
    "\n",
    "metrics_OLS_scaled = test_metrics(y_test, y_pred_OLS_scaled)"
   ]
  },
  {
   "cell_type": "code",
   "execution_count": 139,
   "metadata": {},
   "outputs": [
    {
     "name": "stdout",
     "output_type": "stream",
     "text": [
      "mae  = 2.5245014610707175 \n",
      "mse  = 10.869267167985122 \n",
      "rmse = 3.296857165238604\n"
     ]
    }
   ],
   "source": [
    "from sklearn.linear_model import SGDRegressor\n",
    "\n",
    "model_SGD = SGDRegressor(max_iter=10000, random_state=42)\n",
    "model_SGD.fit(scaled_X_train, y_train)\n",
    "y_pred_SGD = model_SGD.predict(scaled_X_test)\n",
    "\n",
    "metrics_SGD = test_metrics(y_test, y_pred_SGD)"
   ]
  },
  {
   "cell_type": "code",
   "execution_count": 145,
   "metadata": {},
   "outputs": [
    {
     "name": "stdout",
     "output_type": "stream",
     "text": [
      "mae  = 2.5038600897761247 \n",
      "mse  = 10.502370329417301 \n",
      "rmse = 3.2407360783342574\n"
     ]
    }
   ],
   "source": [
    "from sklearn.preprocessing import PolynomialFeatures\n",
    "\n",
    "polynomial_instance = PolynomialFeatures(degree=1, include_bias=False)\n",
    "\n",
    "polynomial_features = polynomial_instance.fit_transform(X)\n",
    "X_train, X_test, y_train, y_test = train_test_split(polynomial_features, y, test_size=0.2, random_state=42)\n",
    "\n",
    "model_POLY_1 = LinearRegression()\n",
    "model_POLY_1.fit(X_train, y_train)\n",
    "y_pred_POLY_1 = model_POLY_1.predict(X_test)\n",
    "\n",
    "metrics_POLY_1 = test_metrics(y_test, y_pred_POLY_1)"
   ]
  },
  {
   "cell_type": "code",
   "execution_count": 148,
   "metadata": {},
   "outputs": [
    {
     "name": "stdout",
     "output_type": "stream",
     "text": [
      "mae  = 1.980477209601935 \n",
      "mse  = 7.419858147786743 \n",
      "rmse = 2.723941656457925\n"
     ]
    }
   ],
   "source": [
    "polynomial_instance = PolynomialFeatures(degree=2, include_bias=False)\n",
    "\n",
    "polynomial_features = polynomial_instance.fit_transform(X)\n",
    "X_train, X_test, y_train, y_test = train_test_split(polynomial_features, y, test_size=0.2, random_state=42)\n",
    "\n",
    "model_POLY_2 = LinearRegression()\n",
    "model_POLY_2.fit(X_train, y_train)\n",
    "y_pred_POLY_2 = model_POLY_2.predict(X_test)\n",
    "\n",
    "metrics_POLY_2 = test_metrics(y_test, y_pred_POLY_2)"
   ]
  },
  {
   "cell_type": "code",
   "execution_count": 149,
   "metadata": {},
   "outputs": [
    {
     "name": "stdout",
     "output_type": "stream",
     "text": [
      "mae  = 2.117882182816585 \n",
      "mse  = 9.273542051306416 \n",
      "rmse = 3.0452490951162625\n"
     ]
    }
   ],
   "source": [
    "polynomial_instance = PolynomialFeatures(degree=3, include_bias=False)\n",
    "\n",
    "polynomial_features = polynomial_instance.fit_transform(X)\n",
    "X_train, X_test, y_train, y_test = train_test_split(polynomial_features, y, test_size=0.2, random_state=42)\n",
    "\n",
    "model_POLY_3 = LinearRegression()\n",
    "model_POLY_3.fit(X_train, y_train)\n",
    "y_pred_POLY_3 = model_POLY_3.predict(X_test)\n",
    "\n",
    "metrics_POLY_3 = test_metrics(y_test, y_pred_POLY_3)"
   ]
  },
  {
   "cell_type": "code",
   "execution_count": 156,
   "metadata": {},
   "outputs": [
    {
     "data": {
      "text/html": [
       "<div>\n",
       "<style scoped>\n",
       "    .dataframe tbody tr th:only-of-type {\n",
       "        vertical-align: middle;\n",
       "    }\n",
       "\n",
       "    .dataframe tbody tr th {\n",
       "        vertical-align: top;\n",
       "    }\n",
       "\n",
       "    .dataframe thead th {\n",
       "        text-align: right;\n",
       "    }\n",
       "</style>\n",
       "<table border=\"1\" class=\"dataframe\">\n",
       "  <thead>\n",
       "    <tr style=\"text-align: right;\">\n",
       "      <th></th>\n",
       "      <th>Linear regr. SVD</th>\n",
       "      <th>Linear regr. SVD Scaled</th>\n",
       "      <th>Linear regr. SGD</th>\n",
       "      <th>Polynom. regr. deg 1</th>\n",
       "      <th>Polynom. regr. deg 2</th>\n",
       "      <th>Polynom. regr. deg 3</th>\n",
       "    </tr>\n",
       "  </thead>\n",
       "  <tbody>\n",
       "    <tr>\n",
       "      <th>0</th>\n",
       "      <td>2.503860</td>\n",
       "      <td>2.503860</td>\n",
       "      <td>2.524501</td>\n",
       "      <td>2.503860</td>\n",
       "      <td>1.980477</td>\n",
       "      <td>2.117882</td>\n",
       "    </tr>\n",
       "    <tr>\n",
       "      <th>1</th>\n",
       "      <td>10.502370</td>\n",
       "      <td>10.502370</td>\n",
       "      <td>10.869267</td>\n",
       "      <td>10.502370</td>\n",
       "      <td>7.419858</td>\n",
       "      <td>9.273542</td>\n",
       "    </tr>\n",
       "    <tr>\n",
       "      <th>2</th>\n",
       "      <td>3.240736</td>\n",
       "      <td>3.240736</td>\n",
       "      <td>3.296857</td>\n",
       "      <td>3.240736</td>\n",
       "      <td>2.723942</td>\n",
       "      <td>3.045249</td>\n",
       "    </tr>\n",
       "  </tbody>\n",
       "</table>\n",
       "</div>"
      ],
      "text/plain": [
       "   Linear regr. SVD  Linear regr. SVD Scaled  Linear regr. SGD  \\\n",
       "0          2.503860                 2.503860          2.524501   \n",
       "1         10.502370                10.502370         10.869267   \n",
       "2          3.240736                 3.240736          3.296857   \n",
       "\n",
       "   Polynom. regr. deg 1  Polynom. regr. deg 2  Polynom. regr. deg 3  \n",
       "0              2.503860              1.980477              2.117882  \n",
       "1             10.502370              7.419858              9.273542  \n",
       "2              3.240736              2.723942              3.045249  "
      ]
     },
     "execution_count": 156,
     "metadata": {},
     "output_type": "execute_result"
    }
   ],
   "source": [
    "import pandas as pd\n",
    "\n",
    "df = pd.DataFrame(\n",
    "    {\n",
    "        \"Linear regr. SVD\": metrics_OLS,\n",
    "        \"Linear regr. SVD Scaled\": metrics_OLS_scaled,\n",
    "        \"Linear regr. SGD\": metrics_SGD,\n",
    "        \"Polynom. regr. deg 1\": metrics_POLY_1,\n",
    "        \"Polynom. regr. deg 2\": metrics_POLY_2,\n",
    "        \"Polynom. regr. deg 3\": metrics_POLY_3,\n",
    "    }\n",
    ")\n",
    "df\n"
   ]
  },
  {
   "cell_type": "code",
   "execution_count": null,
   "metadata": {},
   "outputs": [],
   "source": []
  }
 ],
 "metadata": {
  "kernelspec": {
   "display_name": "Machine-learning-Hakan-Akerblom-Q0kvAJT4",
   "language": "python",
   "name": "python3"
  },
  "language_info": {
   "codemirror_mode": {
    "name": "ipython",
    "version": 3
   },
   "file_extension": ".py",
   "mimetype": "text/x-python",
   "name": "python",
   "nbconvert_exporter": "python",
   "pygments_lexer": "ipython3",
   "version": "3.9.13"
  },
  "orig_nbformat": 4,
  "vscode": {
   "interpreter": {
    "hash": "bce844dcebd39b42d741f611eafddc499a09170b70f2f9b2b0751fad7fb74758"
   }
  }
 },
 "nbformat": 4,
 "nbformat_minor": 2
}
