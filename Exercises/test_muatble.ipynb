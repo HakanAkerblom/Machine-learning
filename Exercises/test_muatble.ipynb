{
 "cells": [
  {
   "cell_type": "code",
   "execution_count": null,
   "metadata": {},
   "outputs": [],
   "source": []
  },
  {
   "cell_type": "code",
   "execution_count": null,
   "metadata": {},
   "outputs": [],
   "source": []
  },
  {
   "cell_type": "code",
   "execution_count": 1,
   "metadata": {},
   "outputs": [
    {
     "name": "stdout",
     "output_type": "stream",
     "text": [
      "[2]\n",
      "[2, 4]\n",
      "[2, 4, 8]\n",
      "[2, 4, 8, 16]\n",
      "[2, 4, 8, 16, 32]\n"
     ]
    }
   ],
   "source": [
    "import numpy as np\n",
    "\n",
    "def weird(x):\n",
    "    my_list =[]\n",
    "    for i in range(5):\n",
    "        x *= 2\n",
    "        my_list.append(x)\n",
    "        print(my_list)\n",
    "x = 1\n",
    "weird(x)"
   ]
  },
  {
   "cell_type": "code",
   "execution_count": null,
   "metadata": {},
   "outputs": [],
   "source": [
    "def weird(x):\n",
    "    my_list =[]\n",
    "    for i in range(5):\n",
    "        x *= 2\n",
    "        my_list.append(x)\n",
    "        print(my_list)\n",
    "x = np.ones(1)\n",
    "weird(x)"
   ]
  },
  {
   "cell_type": "code",
   "execution_count": 2,
   "metadata": {},
   "outputs": [
    {
     "name": "stdout",
     "output_type": "stream",
     "text": [
      "[array([2.])]\n",
      "[array([2.]), array([4.])]\n",
      "[array([2.]), array([4.]), array([8.])]\n",
      "[array([2.]), array([4.]), array([8.]), array([16.])]\n",
      "[array([2.]), array([4.]), array([8.]), array([16.]), array([32.])]\n"
     ]
    }
   ],
   "source": [
    "def weird(x):\n",
    "    my_list =[]\n",
    "    for i in range(5):\n",
    "        x *= 2\n",
    "        my_list.append(x.copy())\n",
    "        print(my_list)\n",
    "x = np.ones(1)\n",
    "weird(x)"
   ]
  },
  {
   "cell_type": "code",
   "execution_count": 4,
   "metadata": {},
   "outputs": [
    {
     "name": "stdout",
     "output_type": "stream",
     "text": [
      "idx = 0 ; a = [0 1 2]\n",
      "idx = 1 ; a = [10 11 12]\n",
      "idx = 2 ; a = [20 21 22]\n",
      "idx = 3 ; a = [30 31 32]\n",
      "list0 = [array([30, 31, 32]), array([30, 31, 32]), array([30, 31, 32]), array([30, 31, 32])]\n"
     ]
    }
   ],
   "source": [
    "import numpy as np\n",
    "a = np.empty((3), int)\n",
    "list0 = []\n",
    "for idx in range(4):    \n",
    "    for i in range(3):\n",
    "        a[i] = idx*10 + i\n",
    "    print(\"idx =\",idx,\"; a =\",a)\n",
    "    list0.append(a)\n",
    "print(\"list0 =\",list0)"
   ]
  },
  {
   "cell_type": "code",
   "execution_count": 5,
   "metadata": {},
   "outputs": [
    {
     "name": "stdout",
     "output_type": "stream",
     "text": [
      "idx = 0 ; a = [0 1 2]\n",
      "idx = 1 ; a = [10 11 12]\n",
      "idx = 2 ; a = [20 21 22]\n",
      "idx = 3 ; a = [30 31 32]\n",
      "list0 = [array([0, 1, 2]), array([10, 11, 12]), array([20, 21, 22]), array([30, 31, 32])]\n"
     ]
    }
   ],
   "source": [
    "import numpy as np\n",
    "a = np.empty((3), int)\n",
    "list0 = []\n",
    "for idx in range(4):    \n",
    "    for i in range(3):\n",
    "        a[i] = idx*10 + i\n",
    "    print(\"idx =\",idx,\"; a =\",a)\n",
    "    list0.append(a.copy())\n",
    "print(\"list0 =\",list0)"
   ]
  },
  {
   "cell_type": "code",
   "execution_count": 6,
   "metadata": {},
   "outputs": [
    {
     "name": "stdout",
     "output_type": "stream",
     "text": [
      "5 5 5 5 5\n",
      "[<__main__.Person object at 0x0000026139C4F190>, <__main__.Person object at 0x0000026139C4F190>, <__main__.Person object at 0x0000026139C4F190>, <__main__.Person object at 0x0000026139C4F190>, <__main__.Person object at 0x0000026139C4F190>]\n"
     ]
    }
   ],
   "source": [
    "class Person():\n",
    "    def __init__(self) -> None:\n",
    "        self.age = 0\n",
    "\n",
    "min_person = Person()\n",
    "min_lista = []\n",
    "\n",
    "for i in range(5):\n",
    "    min_person.age += 1\n",
    "    min_lista.append(min_person)\n",
    "\n",
    "print(min_lista[0].age, min_lista[1].age, min_lista[2].age, min_lista[3].age, min_lista[4].age)\n",
    "print(min_lista)"
   ]
  }
 ],
 "metadata": {
  "kernelspec": {
   "display_name": "Machine-learning-Hakan-Akerblom-Q0kvAJT4",
   "language": "python",
   "name": "python3"
  },
  "language_info": {
   "codemirror_mode": {
    "name": "ipython",
    "version": 3
   },
   "file_extension": ".py",
   "mimetype": "text/x-python",
   "name": "python",
   "nbconvert_exporter": "python",
   "pygments_lexer": "ipython3",
   "version": "3.9.13"
  },
  "orig_nbformat": 4,
  "vscode": {
   "interpreter": {
    "hash": "bce844dcebd39b42d741f611eafddc499a09170b70f2f9b2b0751fad7fb74758"
   }
  }
 },
 "nbformat": 4,
 "nbformat_minor": 2
}
